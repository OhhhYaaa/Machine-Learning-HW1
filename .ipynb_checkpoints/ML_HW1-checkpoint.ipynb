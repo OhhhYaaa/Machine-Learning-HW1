{
 "cells": [
  {
   "cell_type": "markdown",
   "id": "cb48edb6-9722-400b-80fb-7ced98f339aa",
   "metadata": {},
   "source": [
    "# Machine Learning HW1"
   ]
  },
  {
   "cell_type": "markdown",
   "id": "0f32a95e-9f3b-4e79-97ee-7c42327d1b1e",
   "metadata": {},
   "source": [
    "## Packages & Data"
   ]
  },
  {
   "cell_type": "code",
   "execution_count": 227,
   "id": "722ef6cc-6dcd-4705-8153-dd63f5fff39d",
   "metadata": {},
   "outputs": [
    {
     "data": {
      "application/javascript": [
       "IPython.notebook.set_autosave_interval(120000)"
      ]
     },
     "metadata": {},
     "output_type": "display_data"
    },
    {
     "name": "stdout",
     "output_type": "stream",
     "text": [
      "Autosaving every 120 seconds\n"
     ]
    }
   ],
   "source": [
    "import time\n",
    "import pandas as pd\n",
    "import numpy as np\n",
    "import sklearn\n",
    "from sklearn.linear_model import LinearRegression\n",
    "from sklearn import svm\n",
    "from sklearn.model_selection import train_test_split\n",
    "from scipy.stats import zscore\n",
    "\n",
    "%autosave 120"
   ]
  },
  {
   "cell_type": "code",
   "execution_count": 228,
   "id": "056ecfed-43d7-48e0-8f45-560b27d26cad",
   "metadata": {},
   "outputs": [],
   "source": [
    "crx = pd.read_csv('crx.csv')\n",
    "data = pd.read_csv('data.csv')\n",
    "crx.label = crx.label.map({'+': 1, '-' : -1})\n",
    "data.Diagnosis = data.Diagnosis.map({'M' : 1, 'B' : -1})"
   ]
  },
  {
   "cell_type": "code",
   "execution_count": 229,
   "id": "07f31da0-cea9-4094-b2dd-62a59287c84e",
   "metadata": {},
   "outputs": [
    {
     "data": {
      "text/plain": [
       "att1     0\n",
       "att2     0\n",
       "att3     0\n",
       "att4     0\n",
       "att5     0\n",
       "att6     0\n",
       "att7     0\n",
       "att8     0\n",
       "att9     0\n",
       "att10    0\n",
       "att11    0\n",
       "att12    0\n",
       "att13    0\n",
       "att14    0\n",
       "att15    0\n",
       "label    0\n",
       "dtype: int64"
      ]
     },
     "execution_count": 229,
     "metadata": {},
     "output_type": "execute_result"
    }
   ],
   "source": [
    "crx.isna().sum()"
   ]
  },
  {
   "cell_type": "code",
   "execution_count": 215,
   "id": "15568f2c-f293-49f3-890d-7c9962a3cff0",
   "metadata": {},
   "outputs": [
    {
     "data": {
      "text/html": [
       "<div>\n",
       "<style scoped>\n",
       "    .dataframe tbody tr th:only-of-type {\n",
       "        vertical-align: middle;\n",
       "    }\n",
       "\n",
       "    .dataframe tbody tr th {\n",
       "        vertical-align: top;\n",
       "    }\n",
       "\n",
       "    .dataframe thead th {\n",
       "        text-align: right;\n",
       "    }\n",
       "</style>\n",
       "<table border=\"1\" class=\"dataframe\">\n",
       "  <thead>\n",
       "    <tr style=\"text-align: right;\">\n",
       "      <th>att13</th>\n",
       "      <th>g</th>\n",
       "      <th>p</th>\n",
       "      <th>s</th>\n",
       "    </tr>\n",
       "    <tr>\n",
       "      <th>label</th>\n",
       "      <th></th>\n",
       "      <th></th>\n",
       "      <th></th>\n",
       "    </tr>\n",
       "  </thead>\n",
       "  <tbody>\n",
       "    <tr>\n",
       "      <th>-1</th>\n",
       "      <td>338</td>\n",
       "      <td>3</td>\n",
       "      <td>42</td>\n",
       "    </tr>\n",
       "    <tr>\n",
       "      <th>1</th>\n",
       "      <td>287</td>\n",
       "      <td>5</td>\n",
       "      <td>15</td>\n",
       "    </tr>\n",
       "  </tbody>\n",
       "</table>\n",
       "</div>"
      ],
      "text/plain": [
       "att13    g  p   s\n",
       "label            \n",
       "-1     338  3  42\n",
       " 1     287  5  15"
      ]
     },
     "execution_count": 215,
     "metadata": {},
     "output_type": "execute_result"
    }
   ],
   "source": [
    "crx.groupby(['label', 'att13']).size().unstack()"
   ]
  },
  {
   "cell_type": "code",
   "execution_count": 216,
   "id": "1c8bcca1-673c-4045-8386-f94173058707",
   "metadata": {},
   "outputs": [
    {
     "name": "stdout",
     "output_type": "stream",
     "text": [
      "b    468\n",
      "a    210\n",
      "?     12\n",
      "Name: att1, dtype: int64\n",
      "u    519\n",
      "y    163\n",
      "?      6\n",
      "l      2\n",
      "Name: att4, dtype: int64\n",
      "g     519\n",
      "p     163\n",
      "?       6\n",
      "gg      2\n",
      "Name: att5, dtype: int64\n",
      "c     137\n",
      "q      78\n",
      "w      64\n",
      "i      59\n",
      "aa     54\n",
      "ff     53\n",
      "k      51\n",
      "cc     41\n",
      "m      38\n",
      "x      38\n",
      "d      30\n",
      "e      25\n",
      "j      10\n",
      "?       9\n",
      "r       3\n",
      "Name: att6, dtype: int64\n",
      "v     399\n",
      "h     138\n",
      "bb     59\n",
      "ff     57\n",
      "?       9\n",
      "j       8\n",
      "z       8\n",
      "dd      6\n",
      "n       4\n",
      "o       2\n",
      "Name: att7, dtype: int64\n",
      "t    361\n",
      "f    329\n",
      "Name: att9, dtype: int64\n",
      "f    395\n",
      "t    295\n",
      "Name: att10, dtype: int64\n",
      "f    374\n",
      "t    316\n",
      "Name: att12, dtype: int64\n",
      "g    625\n",
      "s     57\n",
      "p      8\n",
      "Name: att13, dtype: int64\n"
     ]
    }
   ],
   "source": [
    "print(crx.att1.value_counts()) # b/a/?\n",
    "print(crx.att4.value_counts()) # u/y/?/l\n",
    "print(crx.att5.value_counts()) # g/p/?/gg\n",
    "print(crx.att6.value_counts()) # c/q/w/i/aa/ff/k/cc/m/x/d/e/j/?/r\n",
    "print(crx.att7.value_counts()) # v/h/bb/ff/?/j/z/dd/n/o\n",
    "print(crx.att9.value_counts()) \n",
    "print(crx.att10.value_counts()) # \n",
    "print(crx.att12.value_counts()) # f/t\n",
    "print(crx.att13.value_counts()) # g/s/p"
   ]
  },
  {
   "cell_type": "code",
   "execution_count": 217,
   "id": "e55a8fe8-1c1e-4b8f-b1a2-ce98e1cdb05e",
   "metadata": {},
   "outputs": [
    {
     "name": "stdout",
     "output_type": "stream",
     "text": [
      "-1    357\n",
      " 1    212\n",
      "Name: Diagnosis, dtype: int64\n"
     ]
    }
   ],
   "source": [
    "print(data.Diagnosis.value_counts())"
   ]
  },
  {
   "cell_type": "code",
   "execution_count": 218,
   "id": "8e0a099c-ebf1-4283-9517-a9f0cd8d4150",
   "metadata": {},
   "outputs": [],
   "source": [
    "# 資料整理\n",
    "crx = pd.read_csv('crx.csv')\n",
    "data = pd.read_csv('data.csv')\n",
    "crx.label = crx.label.map({'+': 1, '-' : -1})\n",
    "data.Diagnosis = data.Diagnosis.map({'M' : 1, 'B' : -1})\n",
    "# for crx\n",
    "map1 = {'b' : 1, 'a' : -1, '?' : 0}\n",
    "map4 = {'u' : -1, 'y' : -2, '?' : 0, 'l' : 1}\n",
    "map5 = {'g' : -1, 'p' : -2, '?' : 0, 'gg' : 2}\n",
    "map6 = {'c' : 6, 'q' : 10, 'w' : 2, 'i' : 11, 'aa' : 7, 'ff' : 12, 'k' : 8, \n",
    "        'cc' : 5, 'm' : 4, 'x' : 8, 'd' : 9, 'e' : 3, '?' : 0, 'r' : 1}\n",
    "map7 = {'v' : 8, 'h' : 7, 'bb' : 4, 'ff' : 9, '?' : 0, 'j' : 4, 'z' : 5, 'dd' : 3, 'n' : 2, 'o' : 1}\n",
    "map12 = {'f' : -1, 't' : 1} # same as map9, map10\n",
    "map13 = {'g' : -2, 's' : -1, 'p' : 1}\n",
    "crx.att1 = crx.att1.map(map1)\n",
    "crx.att4 = crx.att4.map(map4)\n",
    "crx.att5 = crx.att5.map(map5)\n",
    "crx.att6 = crx.att6.map(map6)\n",
    "crx.att7 = crx.att7.map(map7)\n",
    "crx.att9 = crx.att9.map(map12)\n",
    "crx.att10 = crx.att10.map(map12)\n",
    "crx.att12 = crx.att12.map(map12)\n",
    "crx.att13 = crx.att13.map(map13)\n",
    "crx = crx.replace('?', 0)\n",
    "crx.att2 = crx.att2.astype(float)\n",
    "crx.att14 = crx.att14.astype(float)\n",
    "crx = crx.fillna(0)"
   ]
  },
  {
   "cell_type": "code",
   "execution_count": 219,
   "id": "52260de4-04c9-467f-b140-0194474f7f6c",
   "metadata": {},
   "outputs": [
    {
     "data": {
      "text/html": [
       "<div>\n",
       "<style scoped>\n",
       "    .dataframe tbody tr th:only-of-type {\n",
       "        vertical-align: middle;\n",
       "    }\n",
       "\n",
       "    .dataframe tbody tr th {\n",
       "        vertical-align: top;\n",
       "    }\n",
       "\n",
       "    .dataframe thead th {\n",
       "        text-align: right;\n",
       "    }\n",
       "</style>\n",
       "<table border=\"1\" class=\"dataframe\">\n",
       "  <thead>\n",
       "    <tr style=\"text-align: right;\">\n",
       "      <th></th>\n",
       "      <th>att1</th>\n",
       "      <th>att2</th>\n",
       "      <th>att3</th>\n",
       "      <th>att4</th>\n",
       "      <th>att5</th>\n",
       "      <th>att6</th>\n",
       "      <th>att7</th>\n",
       "      <th>att8</th>\n",
       "      <th>att9</th>\n",
       "      <th>att10</th>\n",
       "      <th>att11</th>\n",
       "      <th>att12</th>\n",
       "      <th>att13</th>\n",
       "      <th>att14</th>\n",
       "      <th>att15</th>\n",
       "      <th>label</th>\n",
       "    </tr>\n",
       "  </thead>\n",
       "  <tbody>\n",
       "    <tr>\n",
       "      <th>0</th>\n",
       "      <td>1</td>\n",
       "      <td>30.83</td>\n",
       "      <td>0.00</td>\n",
       "      <td>-1</td>\n",
       "      <td>-1</td>\n",
       "      <td>2.0</td>\n",
       "      <td>8</td>\n",
       "      <td>1.25</td>\n",
       "      <td>1</td>\n",
       "      <td>1</td>\n",
       "      <td>1</td>\n",
       "      <td>-1</td>\n",
       "      <td>-2</td>\n",
       "      <td>202.0</td>\n",
       "      <td>0</td>\n",
       "      <td>1</td>\n",
       "    </tr>\n",
       "    <tr>\n",
       "      <th>1</th>\n",
       "      <td>-1</td>\n",
       "      <td>58.67</td>\n",
       "      <td>4.46</td>\n",
       "      <td>-1</td>\n",
       "      <td>-1</td>\n",
       "      <td>10.0</td>\n",
       "      <td>7</td>\n",
       "      <td>3.04</td>\n",
       "      <td>1</td>\n",
       "      <td>1</td>\n",
       "      <td>6</td>\n",
       "      <td>-1</td>\n",
       "      <td>-2</td>\n",
       "      <td>43.0</td>\n",
       "      <td>560</td>\n",
       "      <td>1</td>\n",
       "    </tr>\n",
       "    <tr>\n",
       "      <th>2</th>\n",
       "      <td>-1</td>\n",
       "      <td>24.50</td>\n",
       "      <td>0.50</td>\n",
       "      <td>-1</td>\n",
       "      <td>-1</td>\n",
       "      <td>10.0</td>\n",
       "      <td>7</td>\n",
       "      <td>1.50</td>\n",
       "      <td>1</td>\n",
       "      <td>-1</td>\n",
       "      <td>0</td>\n",
       "      <td>-1</td>\n",
       "      <td>-2</td>\n",
       "      <td>280.0</td>\n",
       "      <td>824</td>\n",
       "      <td>1</td>\n",
       "    </tr>\n",
       "  </tbody>\n",
       "</table>\n",
       "</div>"
      ],
      "text/plain": [
       "   att1   att2  att3  att4  att5  att6  att7  att8  att9  att10  att11  att12  \\\n",
       "0     1  30.83  0.00    -1    -1   2.0     8  1.25     1      1      1     -1   \n",
       "1    -1  58.67  4.46    -1    -1  10.0     7  3.04     1      1      6     -1   \n",
       "2    -1  24.50  0.50    -1    -1  10.0     7  1.50     1     -1      0     -1   \n",
       "\n",
       "   att13  att14  att15  label  \n",
       "0     -2  202.0      0      1  \n",
       "1     -2   43.0    560      1  \n",
       "2     -2  280.0    824      1  "
      ]
     },
     "execution_count": 219,
     "metadata": {},
     "output_type": "execute_result"
    }
   ],
   "source": [
    "crx.head(3)"
   ]
  },
  {
   "cell_type": "code",
   "execution_count": 115,
   "id": "dd0b1c5b-8774-4e1d-8b9a-c65614f824b7",
   "metadata": {},
   "outputs": [
    {
     "data": {
      "text/html": [
       "<div>\n",
       "<style scoped>\n",
       "    .dataframe tbody tr th:only-of-type {\n",
       "        vertical-align: middle;\n",
       "    }\n",
       "\n",
       "    .dataframe tbody tr th {\n",
       "        vertical-align: top;\n",
       "    }\n",
       "\n",
       "    .dataframe thead th {\n",
       "        text-align: right;\n",
       "    }\n",
       "</style>\n",
       "<table border=\"1\" class=\"dataframe\">\n",
       "  <thead>\n",
       "    <tr style=\"text-align: right;\">\n",
       "      <th></th>\n",
       "      <th>ID</th>\n",
       "      <th>Diagnosis</th>\n",
       "      <th>3</th>\n",
       "      <th>4</th>\n",
       "      <th>5</th>\n",
       "      <th>6</th>\n",
       "      <th>7</th>\n",
       "      <th>8</th>\n",
       "      <th>9</th>\n",
       "      <th>10</th>\n",
       "      <th>...</th>\n",
       "      <th>23</th>\n",
       "      <th>24</th>\n",
       "      <th>25</th>\n",
       "      <th>26</th>\n",
       "      <th>27</th>\n",
       "      <th>28</th>\n",
       "      <th>29</th>\n",
       "      <th>30</th>\n",
       "      <th>31</th>\n",
       "      <th>Unnamed: 31</th>\n",
       "    </tr>\n",
       "  </thead>\n",
       "  <tbody>\n",
       "    <tr>\n",
       "      <th>0</th>\n",
       "      <td>-0.236405</td>\n",
       "      <td>1.297676</td>\n",
       "      <td>1.097064</td>\n",
       "      <td>-2.073335</td>\n",
       "      <td>1.269934</td>\n",
       "      <td>0.984375</td>\n",
       "      <td>1.568466</td>\n",
       "      <td>3.283515</td>\n",
       "      <td>2.652874</td>\n",
       "      <td>2.532475</td>\n",
       "      <td>...</td>\n",
       "      <td>1.886690</td>\n",
       "      <td>-1.359293</td>\n",
       "      <td>2.303601</td>\n",
       "      <td>2.001237</td>\n",
       "      <td>1.307686</td>\n",
       "      <td>2.616665</td>\n",
       "      <td>2.109526</td>\n",
       "      <td>2.296076</td>\n",
       "      <td>2.750622</td>\n",
       "      <td>1.937015</td>\n",
       "    </tr>\n",
       "    <tr>\n",
       "      <th>1</th>\n",
       "      <td>-0.236403</td>\n",
       "      <td>1.297676</td>\n",
       "      <td>1.829821</td>\n",
       "      <td>-0.353632</td>\n",
       "      <td>1.685955</td>\n",
       "      <td>1.908708</td>\n",
       "      <td>-0.826962</td>\n",
       "      <td>-0.487072</td>\n",
       "      <td>-0.023846</td>\n",
       "      <td>0.548144</td>\n",
       "      <td>...</td>\n",
       "      <td>1.805927</td>\n",
       "      <td>-0.369203</td>\n",
       "      <td>1.535126</td>\n",
       "      <td>1.890489</td>\n",
       "      <td>-0.375612</td>\n",
       "      <td>-0.430444</td>\n",
       "      <td>-0.146749</td>\n",
       "      <td>1.087084</td>\n",
       "      <td>-0.243890</td>\n",
       "      <td>0.281190</td>\n",
       "    </tr>\n",
       "    <tr>\n",
       "      <th>2</th>\n",
       "      <td>0.431741</td>\n",
       "      <td>1.297676</td>\n",
       "      <td>1.579888</td>\n",
       "      <td>0.456187</td>\n",
       "      <td>1.566503</td>\n",
       "      <td>1.558884</td>\n",
       "      <td>0.942210</td>\n",
       "      <td>1.052926</td>\n",
       "      <td>1.363478</td>\n",
       "      <td>2.037231</td>\n",
       "      <td>...</td>\n",
       "      <td>1.511870</td>\n",
       "      <td>-0.023974</td>\n",
       "      <td>1.347475</td>\n",
       "      <td>1.456285</td>\n",
       "      <td>0.527407</td>\n",
       "      <td>1.082932</td>\n",
       "      <td>0.854974</td>\n",
       "      <td>1.955000</td>\n",
       "      <td>1.152255</td>\n",
       "      <td>0.201391</td>\n",
       "    </tr>\n",
       "  </tbody>\n",
       "</table>\n",
       "<p>3 rows × 32 columns</p>\n",
       "</div>"
      ],
      "text/plain": [
       "         ID  Diagnosis         3         4         5         6         7  \\\n",
       "0 -0.236405   1.297676  1.097064 -2.073335  1.269934  0.984375  1.568466   \n",
       "1 -0.236403   1.297676  1.829821 -0.353632  1.685955  1.908708 -0.826962   \n",
       "2  0.431741   1.297676  1.579888  0.456187  1.566503  1.558884  0.942210   \n",
       "\n",
       "          8         9        10  ...        23        24        25        26  \\\n",
       "0  3.283515  2.652874  2.532475  ...  1.886690 -1.359293  2.303601  2.001237   \n",
       "1 -0.487072 -0.023846  0.548144  ...  1.805927 -0.369203  1.535126  1.890489   \n",
       "2  1.052926  1.363478  2.037231  ...  1.511870 -0.023974  1.347475  1.456285   \n",
       "\n",
       "         27        28        29        30        31  Unnamed: 31  \n",
       "0  1.307686  2.616665  2.109526  2.296076  2.750622     1.937015  \n",
       "1 -0.375612 -0.430444 -0.146749  1.087084 -0.243890     0.281190  \n",
       "2  0.527407  1.082932  0.854974  1.955000  1.152255     0.201391  \n",
       "\n",
       "[3 rows x 32 columns]"
      ]
     },
     "execution_count": 115,
     "metadata": {},
     "output_type": "execute_result"
    }
   ],
   "source": [
    "data.head(3)"
   ]
  },
  {
   "cell_type": "code",
   "execution_count": 220,
   "id": "edf3e354-84b1-4961-a4e1-caca18c53bef",
   "metadata": {
    "tags": []
   },
   "outputs": [],
   "source": [
    "crx_label = crx.label\n",
    "crx_features = crx.drop(['label'], axis = 1)\n",
    "crx_features = zscore(crx_features,axis=0)\n",
    "data_label = data.Diagnosis\n",
    "data_features = data.drop(['Diagnosis', 'ID'], axis = 1)\n",
    "data_features = zscore(data_features, axis = 0)"
   ]
  },
  {
   "cell_type": "code",
   "execution_count": 158,
   "id": "18284972-6ad4-479c-aee8-ecd04a52ed9f",
   "metadata": {},
   "outputs": [
    {
     "data": {
      "text/html": [
       "<div>\n",
       "<style scoped>\n",
       "    .dataframe tbody tr th:only-of-type {\n",
       "        vertical-align: middle;\n",
       "    }\n",
       "\n",
       "    .dataframe tbody tr th {\n",
       "        vertical-align: top;\n",
       "    }\n",
       "\n",
       "    .dataframe thead th {\n",
       "        text-align: right;\n",
       "    }\n",
       "</style>\n",
       "<table border=\"1\" class=\"dataframe\">\n",
       "  <thead>\n",
       "    <tr style=\"text-align: right;\">\n",
       "      <th></th>\n",
       "      <th>3</th>\n",
       "      <th>4</th>\n",
       "      <th>5</th>\n",
       "      <th>6</th>\n",
       "      <th>7</th>\n",
       "      <th>8</th>\n",
       "      <th>9</th>\n",
       "      <th>10</th>\n",
       "      <th>11</th>\n",
       "      <th>12</th>\n",
       "      <th>...</th>\n",
       "      <th>23</th>\n",
       "      <th>24</th>\n",
       "      <th>25</th>\n",
       "      <th>26</th>\n",
       "      <th>27</th>\n",
       "      <th>28</th>\n",
       "      <th>29</th>\n",
       "      <th>30</th>\n",
       "      <th>31</th>\n",
       "      <th>Unnamed: 31</th>\n",
       "    </tr>\n",
       "  </thead>\n",
       "  <tbody>\n",
       "    <tr>\n",
       "      <th>0</th>\n",
       "      <td>1.097064</td>\n",
       "      <td>-2.073335</td>\n",
       "      <td>1.269934</td>\n",
       "      <td>0.984375</td>\n",
       "      <td>1.568466</td>\n",
       "      <td>3.283515</td>\n",
       "      <td>2.652874</td>\n",
       "      <td>2.532475</td>\n",
       "      <td>2.217515</td>\n",
       "      <td>2.255747</td>\n",
       "      <td>...</td>\n",
       "      <td>1.886690</td>\n",
       "      <td>-1.359293</td>\n",
       "      <td>2.303601</td>\n",
       "      <td>2.001237</td>\n",
       "      <td>1.307686</td>\n",
       "      <td>2.616665</td>\n",
       "      <td>2.109526</td>\n",
       "      <td>2.296076</td>\n",
       "      <td>2.750622</td>\n",
       "      <td>1.937015</td>\n",
       "    </tr>\n",
       "    <tr>\n",
       "      <th>1</th>\n",
       "      <td>1.829821</td>\n",
       "      <td>-0.353632</td>\n",
       "      <td>1.685955</td>\n",
       "      <td>1.908708</td>\n",
       "      <td>-0.826962</td>\n",
       "      <td>-0.487072</td>\n",
       "      <td>-0.023846</td>\n",
       "      <td>0.548144</td>\n",
       "      <td>0.001392</td>\n",
       "      <td>-0.868652</td>\n",
       "      <td>...</td>\n",
       "      <td>1.805927</td>\n",
       "      <td>-0.369203</td>\n",
       "      <td>1.535126</td>\n",
       "      <td>1.890489</td>\n",
       "      <td>-0.375612</td>\n",
       "      <td>-0.430444</td>\n",
       "      <td>-0.146749</td>\n",
       "      <td>1.087084</td>\n",
       "      <td>-0.243890</td>\n",
       "      <td>0.281190</td>\n",
       "    </tr>\n",
       "    <tr>\n",
       "      <th>2</th>\n",
       "      <td>1.579888</td>\n",
       "      <td>0.456187</td>\n",
       "      <td>1.566503</td>\n",
       "      <td>1.558884</td>\n",
       "      <td>0.942210</td>\n",
       "      <td>1.052926</td>\n",
       "      <td>1.363478</td>\n",
       "      <td>2.037231</td>\n",
       "      <td>0.939685</td>\n",
       "      <td>-0.398008</td>\n",
       "      <td>...</td>\n",
       "      <td>1.511870</td>\n",
       "      <td>-0.023974</td>\n",
       "      <td>1.347475</td>\n",
       "      <td>1.456285</td>\n",
       "      <td>0.527407</td>\n",
       "      <td>1.082932</td>\n",
       "      <td>0.854974</td>\n",
       "      <td>1.955000</td>\n",
       "      <td>1.152255</td>\n",
       "      <td>0.201391</td>\n",
       "    </tr>\n",
       "    <tr>\n",
       "      <th>3</th>\n",
       "      <td>-0.768909</td>\n",
       "      <td>0.253732</td>\n",
       "      <td>-0.592687</td>\n",
       "      <td>-0.764464</td>\n",
       "      <td>3.283553</td>\n",
       "      <td>3.402909</td>\n",
       "      <td>1.915897</td>\n",
       "      <td>1.451707</td>\n",
       "      <td>2.867383</td>\n",
       "      <td>4.910919</td>\n",
       "      <td>...</td>\n",
       "      <td>-0.281464</td>\n",
       "      <td>0.133984</td>\n",
       "      <td>-0.249939</td>\n",
       "      <td>-0.550021</td>\n",
       "      <td>3.394275</td>\n",
       "      <td>3.893397</td>\n",
       "      <td>1.989588</td>\n",
       "      <td>2.175786</td>\n",
       "      <td>6.046041</td>\n",
       "      <td>4.935010</td>\n",
       "    </tr>\n",
       "    <tr>\n",
       "      <th>4</th>\n",
       "      <td>1.750297</td>\n",
       "      <td>-1.151816</td>\n",
       "      <td>1.776573</td>\n",
       "      <td>1.826229</td>\n",
       "      <td>0.280372</td>\n",
       "      <td>0.539340</td>\n",
       "      <td>1.371011</td>\n",
       "      <td>1.428493</td>\n",
       "      <td>-0.009560</td>\n",
       "      <td>-0.562450</td>\n",
       "      <td>...</td>\n",
       "      <td>1.298575</td>\n",
       "      <td>-1.466770</td>\n",
       "      <td>1.338539</td>\n",
       "      <td>1.220724</td>\n",
       "      <td>0.220556</td>\n",
       "      <td>-0.313395</td>\n",
       "      <td>0.613179</td>\n",
       "      <td>0.729259</td>\n",
       "      <td>-0.868353</td>\n",
       "      <td>-0.397100</td>\n",
       "    </tr>\n",
       "    <tr>\n",
       "      <th>...</th>\n",
       "      <td>...</td>\n",
       "      <td>...</td>\n",
       "      <td>...</td>\n",
       "      <td>...</td>\n",
       "      <td>...</td>\n",
       "      <td>...</td>\n",
       "      <td>...</td>\n",
       "      <td>...</td>\n",
       "      <td>...</td>\n",
       "      <td>...</td>\n",
       "      <td>...</td>\n",
       "      <td>...</td>\n",
       "      <td>...</td>\n",
       "      <td>...</td>\n",
       "      <td>...</td>\n",
       "      <td>...</td>\n",
       "      <td>...</td>\n",
       "      <td>...</td>\n",
       "      <td>...</td>\n",
       "      <td>...</td>\n",
       "      <td>...</td>\n",
       "    </tr>\n",
       "    <tr>\n",
       "      <th>564</th>\n",
       "      <td>2.110995</td>\n",
       "      <td>0.721473</td>\n",
       "      <td>2.060786</td>\n",
       "      <td>2.343856</td>\n",
       "      <td>1.041842</td>\n",
       "      <td>0.219060</td>\n",
       "      <td>1.947285</td>\n",
       "      <td>2.320965</td>\n",
       "      <td>-0.312589</td>\n",
       "      <td>-0.931027</td>\n",
       "      <td>...</td>\n",
       "      <td>1.901185</td>\n",
       "      <td>0.117700</td>\n",
       "      <td>1.752563</td>\n",
       "      <td>2.015301</td>\n",
       "      <td>0.378365</td>\n",
       "      <td>-0.273318</td>\n",
       "      <td>0.664512</td>\n",
       "      <td>1.629151</td>\n",
       "      <td>-1.360158</td>\n",
       "      <td>-0.709091</td>\n",
       "    </tr>\n",
       "    <tr>\n",
       "      <th>565</th>\n",
       "      <td>1.704854</td>\n",
       "      <td>2.085134</td>\n",
       "      <td>1.615931</td>\n",
       "      <td>1.723842</td>\n",
       "      <td>0.102458</td>\n",
       "      <td>-0.017833</td>\n",
       "      <td>0.693043</td>\n",
       "      <td>1.263669</td>\n",
       "      <td>-0.217664</td>\n",
       "      <td>-1.058611</td>\n",
       "      <td>...</td>\n",
       "      <td>1.536720</td>\n",
       "      <td>2.047399</td>\n",
       "      <td>1.421940</td>\n",
       "      <td>1.494959</td>\n",
       "      <td>-0.691230</td>\n",
       "      <td>-0.394820</td>\n",
       "      <td>0.236573</td>\n",
       "      <td>0.733827</td>\n",
       "      <td>-0.531855</td>\n",
       "      <td>-0.973978</td>\n",
       "    </tr>\n",
       "    <tr>\n",
       "      <th>566</th>\n",
       "      <td>0.702284</td>\n",
       "      <td>2.045574</td>\n",
       "      <td>0.672676</td>\n",
       "      <td>0.577953</td>\n",
       "      <td>-0.840484</td>\n",
       "      <td>-0.038680</td>\n",
       "      <td>0.046588</td>\n",
       "      <td>0.105777</td>\n",
       "      <td>-0.809117</td>\n",
       "      <td>-0.895587</td>\n",
       "      <td>...</td>\n",
       "      <td>0.561361</td>\n",
       "      <td>1.374854</td>\n",
       "      <td>0.579001</td>\n",
       "      <td>0.427906</td>\n",
       "      <td>-0.809587</td>\n",
       "      <td>0.350735</td>\n",
       "      <td>0.326767</td>\n",
       "      <td>0.414069</td>\n",
       "      <td>-1.104549</td>\n",
       "      <td>-0.318409</td>\n",
       "    </tr>\n",
       "    <tr>\n",
       "      <th>567</th>\n",
       "      <td>1.838341</td>\n",
       "      <td>2.336457</td>\n",
       "      <td>1.982524</td>\n",
       "      <td>1.735218</td>\n",
       "      <td>1.525767</td>\n",
       "      <td>3.272144</td>\n",
       "      <td>3.296944</td>\n",
       "      <td>2.658866</td>\n",
       "      <td>2.137194</td>\n",
       "      <td>1.043695</td>\n",
       "      <td>...</td>\n",
       "      <td>1.961239</td>\n",
       "      <td>2.237926</td>\n",
       "      <td>2.303601</td>\n",
       "      <td>1.653171</td>\n",
       "      <td>1.430427</td>\n",
       "      <td>3.904848</td>\n",
       "      <td>3.197605</td>\n",
       "      <td>2.289985</td>\n",
       "      <td>1.919083</td>\n",
       "      <td>2.219635</td>\n",
       "    </tr>\n",
       "    <tr>\n",
       "      <th>568</th>\n",
       "      <td>-1.808401</td>\n",
       "      <td>1.221792</td>\n",
       "      <td>-1.814389</td>\n",
       "      <td>-1.347789</td>\n",
       "      <td>-3.112085</td>\n",
       "      <td>-1.150752</td>\n",
       "      <td>-1.114873</td>\n",
       "      <td>-1.261820</td>\n",
       "      <td>-0.820070</td>\n",
       "      <td>-0.561032</td>\n",
       "      <td>...</td>\n",
       "      <td>-1.410893</td>\n",
       "      <td>0.764190</td>\n",
       "      <td>-1.432735</td>\n",
       "      <td>-1.075813</td>\n",
       "      <td>-1.859019</td>\n",
       "      <td>-1.207552</td>\n",
       "      <td>-1.305831</td>\n",
       "      <td>-1.745063</td>\n",
       "      <td>-0.048138</td>\n",
       "      <td>-0.751207</td>\n",
       "    </tr>\n",
       "  </tbody>\n",
       "</table>\n",
       "<p>569 rows × 30 columns</p>\n",
       "</div>"
      ],
      "text/plain": [
       "            3         4         5         6         7         8         9  \\\n",
       "0    1.097064 -2.073335  1.269934  0.984375  1.568466  3.283515  2.652874   \n",
       "1    1.829821 -0.353632  1.685955  1.908708 -0.826962 -0.487072 -0.023846   \n",
       "2    1.579888  0.456187  1.566503  1.558884  0.942210  1.052926  1.363478   \n",
       "3   -0.768909  0.253732 -0.592687 -0.764464  3.283553  3.402909  1.915897   \n",
       "4    1.750297 -1.151816  1.776573  1.826229  0.280372  0.539340  1.371011   \n",
       "..        ...       ...       ...       ...       ...       ...       ...   \n",
       "564  2.110995  0.721473  2.060786  2.343856  1.041842  0.219060  1.947285   \n",
       "565  1.704854  2.085134  1.615931  1.723842  0.102458 -0.017833  0.693043   \n",
       "566  0.702284  2.045574  0.672676  0.577953 -0.840484 -0.038680  0.046588   \n",
       "567  1.838341  2.336457  1.982524  1.735218  1.525767  3.272144  3.296944   \n",
       "568 -1.808401  1.221792 -1.814389 -1.347789 -3.112085 -1.150752 -1.114873   \n",
       "\n",
       "           10        11        12  ...        23        24        25  \\\n",
       "0    2.532475  2.217515  2.255747  ...  1.886690 -1.359293  2.303601   \n",
       "1    0.548144  0.001392 -0.868652  ...  1.805927 -0.369203  1.535126   \n",
       "2    2.037231  0.939685 -0.398008  ...  1.511870 -0.023974  1.347475   \n",
       "3    1.451707  2.867383  4.910919  ... -0.281464  0.133984 -0.249939   \n",
       "4    1.428493 -0.009560 -0.562450  ...  1.298575 -1.466770  1.338539   \n",
       "..        ...       ...       ...  ...       ...       ...       ...   \n",
       "564  2.320965 -0.312589 -0.931027  ...  1.901185  0.117700  1.752563   \n",
       "565  1.263669 -0.217664 -1.058611  ...  1.536720  2.047399  1.421940   \n",
       "566  0.105777 -0.809117 -0.895587  ...  0.561361  1.374854  0.579001   \n",
       "567  2.658866  2.137194  1.043695  ...  1.961239  2.237926  2.303601   \n",
       "568 -1.261820 -0.820070 -0.561032  ... -1.410893  0.764190 -1.432735   \n",
       "\n",
       "           26        27        28        29        30        31  Unnamed: 31  \n",
       "0    2.001237  1.307686  2.616665  2.109526  2.296076  2.750622     1.937015  \n",
       "1    1.890489 -0.375612 -0.430444 -0.146749  1.087084 -0.243890     0.281190  \n",
       "2    1.456285  0.527407  1.082932  0.854974  1.955000  1.152255     0.201391  \n",
       "3   -0.550021  3.394275  3.893397  1.989588  2.175786  6.046041     4.935010  \n",
       "4    1.220724  0.220556 -0.313395  0.613179  0.729259 -0.868353    -0.397100  \n",
       "..        ...       ...       ...       ...       ...       ...          ...  \n",
       "564  2.015301  0.378365 -0.273318  0.664512  1.629151 -1.360158    -0.709091  \n",
       "565  1.494959 -0.691230 -0.394820  0.236573  0.733827 -0.531855    -0.973978  \n",
       "566  0.427906 -0.809587  0.350735  0.326767  0.414069 -1.104549    -0.318409  \n",
       "567  1.653171  1.430427  3.904848  3.197605  2.289985  1.919083     2.219635  \n",
       "568 -1.075813 -1.859019 -1.207552 -1.305831 -1.745063 -0.048138    -0.751207  \n",
       "\n",
       "[569 rows x 30 columns]"
      ]
     },
     "execution_count": 158,
     "metadata": {},
     "output_type": "execute_result"
    }
   ],
   "source": [
    "data_features"
   ]
  },
  {
   "cell_type": "markdown",
   "id": "c6f1faff-7e60-44a2-8cd3-d7712bcc29ae",
   "metadata": {},
   "source": [
    "## Basic Linear Classification"
   ]
  },
  {
   "cell_type": "code",
   "execution_count": 221,
   "id": "820f299b-a2aa-4375-871d-bdb1559703a1",
   "metadata": {},
   "outputs": [],
   "source": [
    "def sign(y):\n",
    "        if y > 0:\n",
    "            return 1\n",
    "        else:\n",
    "            return -1 "
   ]
  },
  {
   "cell_type": "code",
   "execution_count": 237,
   "id": "b8ee55fa-c5db-4bfe-bc2a-050c6f907878",
   "metadata": {},
   "outputs": [],
   "source": [
    "class BasicLinearClassification : \n",
    "    def __init__(self, iter_n = 1000, lr = 0.001) :\n",
    "        self.iter_n = iter_n\n",
    "        self.lr = lr\n",
    "        self.W = 0\n",
    "    \n",
    "    def fit(self, features, label) :\n",
    "        x = features\n",
    "        y = label.to_numpy()\n",
    "        idx = np.random.permutation(x.shape[0])\n",
    "        x = x.take(idx).to_numpy()\n",
    "        w = np.zeros(x.shape[1], dtype = float).reshape((-1, 1))\n",
    "        for k in range(self.iter_n):\n",
    "            for i in range(x.shape[0]):\n",
    "                y_hat = sign(np.dot(x[i], w))\n",
    "                if(y_hat*y[i] <= 0):\n",
    "                    w += self.lr * (x[i].reshape(-1, 1) * y[i])\n",
    "        self.W = w\n",
    "        \n",
    "    def predict(self, features, label) :\n",
    "        a = np.dot(features.to_numpy(), self.W)\n",
    "        a = np.where(a > 0, 1, -1)\n",
    "        b = np.array(label).reshape(-1, 1)\n",
    "        return sum(a==b)/label.shape[0]\n",
    "    def getw(self) :\n",
    "        return w"
   ]
  },
  {
   "cell_type": "code",
   "execution_count": 238,
   "id": "1eb28bbd-1059-4594-8eb4-999bb7a4a33b",
   "metadata": {},
   "outputs": [
    {
     "data": {
      "text/plain": [
       "array([[ 6.05938910e-15],\n",
       "       [ 2.65008806e-02],\n",
       "       [ 1.02421230e-02],\n",
       "       [-2.19606059e-01],\n",
       "       [ 1.90532933e-01],\n",
       "       [ 2.53692437e-02],\n",
       "       [ 2.39442914e-02],\n",
       "       [-4.99837404e-02],\n",
       "       [ 6.00646285e-02],\n",
       "       [-2.02134077e-02],\n",
       "       [ 5.14465231e-02],\n",
       "       [ 2.00710341e-02],\n",
       "       [ 4.80602903e-02],\n",
       "       [ 2.36993798e-02],\n",
       "       [ 5.56169574e-02]])"
      ]
     },
     "execution_count": 238,
     "metadata": {},
     "output_type": "execute_result"
    }
   ],
   "source": [
    "LC = BasicLinearClassification()\n",
    "LC.fit(crx_features, crx_label)\n",
    "LC.predict(crx_features, crx_label)"
   ]
  },
  {
   "cell_type": "code",
   "execution_count": null,
   "id": "7ec04d77-5814-4caf-a227-565e7503d9c5",
   "metadata": {},
   "outputs": [],
   "source": []
  },
  {
   "cell_type": "markdown",
   "id": "c76606ce-64a3-4ed6-a7d4-2cfd6b454d33",
   "metadata": {},
   "source": [
    "## Basic Linear Classification With Bias"
   ]
  },
  {
   "cell_type": "code",
   "execution_count": 239,
   "id": "fd160fa7-0fc9-4cc6-839a-60547507e574",
   "metadata": {},
   "outputs": [],
   "source": [
    "class BasicLinearClassificationWithBias : \n",
    "    def __init__(self, iter_n = 1000, lr = 0.001) :\n",
    "        self.iter_n = iter_n\n",
    "        self.lr = lr\n",
    "        self.W = 0\n",
    "        self.B = 0\n",
    "    \n",
    "    def fit(self, features, label) :\n",
    "        x = features\n",
    "        y = label.to_numpy()\n",
    "        idx = np.random.permutation(x.shape[0])\n",
    "        x = x.take(idx).to_numpy()\n",
    "        w = np.zeros(x.shape[1], dtype = float).reshape((-1, 1))\n",
    "        b = 0\n",
    "        for k in range(self.iter_n):\n",
    "            for i in range(x.shape[0]): \n",
    "                y_hat = sign(np.dot(x[i], w) + b)\n",
    "                if(y_hat*y[i] <= 0):\n",
    "                    w += self.lr * (x[i].reshape(-1, 1) * y[i])\n",
    "                    b += y[i]\n",
    "        self.W = w\n",
    "        self.B = b\n",
    "        return self.W, self.B\n",
    "    def predict(self, features, label) :\n",
    "        \n",
    "        a = np.dot(features.to_numpy(), self.W) + self.B\n",
    "        a = np.where(a > 0, 1, -1)\n",
    "        b = np.array(label).reshape(-1, 1)\n",
    "        return sum(a==b)/label.shape[0]\n",
    "    def getwb(self) : \n",
    "        return w, b"
   ]
  },
  {
   "cell_type": "code",
   "execution_count": 225,
   "id": "5bb383d8-d453-4e25-b33a-e649e170d5b2",
   "metadata": {},
   "outputs": [
    {
     "data": {
      "text/plain": [
       "array([0.55507246])"
      ]
     },
     "execution_count": 225,
     "metadata": {},
     "output_type": "execute_result"
    }
   ],
   "source": [
    "LCB = BasicLinearClassificationWithBias()\n",
    "LCB.fit(crx_features, crx_label)\n",
    "LCB.predict(crx_features, crx_label)"
   ]
  },
  {
   "cell_type": "markdown",
   "id": "caf5d0b3-e300-428e-a476-eef4947b907f",
   "metadata": {},
   "source": [
    "## LSE"
   ]
  },
  {
   "cell_type": "code",
   "execution_count": 163,
   "id": "77cca982-404e-4b48-bbc2-e214d49c7843",
   "metadata": {
    "tags": []
   },
   "outputs": [],
   "source": [
    "# J = WX + B  using LSE\n",
    "def LSE(features, label) :\n",
    "    y = label\n",
    "    x = np.ones((features.shape[0], 1))\n",
    "    x = np.hstack([x, features])\n",
    "    w = np.linalg.inv(x.T @ x) @ x.T @ y\n",
    "    return w"
   ]
  },
  {
   "cell_type": "code",
   "execution_count": 164,
   "id": "fa1e54a2-c9c3-4ad2-a370-6446bd86e39f",
   "metadata": {},
   "outputs": [
    {
     "data": {
      "text/plain": [
       "0.5550724637681159"
      ]
     },
     "execution_count": 164,
     "metadata": {},
     "output_type": "execute_result"
    }
   ],
   "source": [
    "# ckeck accuracy\n",
    "w =  LSE(crx_features, crx_label)\n",
    "x = np.ones((crx_features.shape[0], 1))\n",
    "x = np.hstack([x, crx_features])\n",
    "a = np.dot(x, w) \n",
    "a = np.where(a > 0, 1, -1)\n",
    "b = np.array(crx_label)\n",
    "sum(a==b)/crx_label.shape[0]"
   ]
  },
  {
   "cell_type": "code",
   "execution_count": null,
   "id": "2df011c7-307c-428f-a387-888167a171ab",
   "metadata": {},
   "outputs": [],
   "source": []
  },
  {
   "cell_type": "markdown",
   "id": "64b0f68c-deb8-41aa-af56-b7be26231539",
   "metadata": {},
   "source": [
    "## Basic Linear Classification With Bias and Voted Perceptron"
   ]
  },
  {
   "cell_type": "code",
   "execution_count": 166,
   "id": "ea418aa4-6d27-4f78-b79d-fe4111df8874",
   "metadata": {},
   "outputs": [],
   "source": [
    "class VotedPerceptron:\n",
    "    def __init__(self, n_iter = 100):\n",
    "        self.n_iter = n_iter\n",
    "        self.V = []\n",
    "        self.C = []\n",
    "        self.k = 0\n",
    "        self.B = []\n",
    "    \n",
    "    def fit(self, x, y):\n",
    "        x = x.to_numpy()\n",
    "        y = y.to_numpy()\n",
    "        k = 0\n",
    "        v = [np.ones_like(x)[0]]\n",
    "        c = [0]\n",
    "        b = [0]\n",
    "        lr = 0.01\n",
    "        for epoch in range(self.n_iter): # runs through the data n_iter times\n",
    "            for i in range(len(x)):\n",
    "                pred = sign(np.dot(v[k], x[i]) + b[k])\n",
    "                1 if np.dot(v[k], x[i]) > 0 else -1 # checks the sing of v*k\n",
    "                if pred == y[i]: # checks if the prediction matches the real Y\n",
    "                    c[k] += 1 # increments c\n",
    "                else:\n",
    "                    v.append(np.add(v[k], y[i] * x[i] * lr))\n",
    "                    c.append(1)\n",
    "                    b.append(np.add(b[k], y[i]))\n",
    "                    k += 1\n",
    "        self.V = v\n",
    "        self.C = c\n",
    "        self.k = k\n",
    "        self.B = b\n",
    "\n",
    "    def predict(self, features, label):\n",
    "        preds = []\n",
    "        features = features.to_numpy()\n",
    "        for x in features:\n",
    "            s = 0\n",
    "            for w, c, b in zip(self.V, self.C, self.B):\n",
    "                s = s + c*sign(np.dot(w,x) + b)\n",
    "            preds.append(sign(s))\n",
    "        a = np.array(preds)\n",
    "        b = np.array(label)\n",
    "        return sum(a==b)/label.shape[0]\n"
   ]
  },
  {
   "cell_type": "code",
   "execution_count": 168,
   "id": "c7f590d8-ee9e-4aac-84f8-1fdd35a277ac",
   "metadata": {},
   "outputs": [
    {
     "data": {
      "text/plain": [
       "0.5550724637681159"
      ]
     },
     "execution_count": 168,
     "metadata": {},
     "output_type": "execute_result"
    }
   ],
   "source": [
    "vp = VotedPerceptron(n_iter=100)\n",
    "vp.fit(crx_features, crx_label)\n",
    "vp.predict(crx_features, crx_label)"
   ]
  },
  {
   "cell_type": "code",
   "execution_count": 167,
   "id": "26a415a1-94c4-459c-b35a-fc929294fce5",
   "metadata": {},
   "outputs": [
    {
     "data": {
      "text/plain": [
       "0.9789103690685413"
      ]
     },
     "execution_count": 167,
     "metadata": {},
     "output_type": "execute_result"
    }
   ],
   "source": [
    "vp = VotedPerceptron(n_iter=100)\n",
    "vp.fit(data_features, data_label)\n",
    "vp.predict(data_features, data_label)\n"
   ]
  },
  {
   "cell_type": "code",
   "execution_count": null,
   "id": "3ce182ed-728d-4e1a-a201-6aecabd5b2ed",
   "metadata": {},
   "outputs": [],
   "source": []
  },
  {
   "cell_type": "markdown",
   "id": "66b21958-c63b-460e-8110-f394a042ef1c",
   "metadata": {
    "tags": []
   },
   "source": [
    "## Basic Linear Classification With Bias and Large Margin"
   ]
  },
  {
   "cell_type": "code",
   "execution_count": 181,
   "id": "ccc32a92-1b09-409d-a15a-7b453cf354f2",
   "metadata": {},
   "outputs": [],
   "source": [
    "def BasicLCB(features, label, iter_n = 1000) : \n",
    "    x = features\n",
    "    y = label.to_numpy()\n",
    "    lr = 0.01\n",
    "    idx = np.random.permutation(x.shape[0])\n",
    "    temp = x.take(idx).to_numpy()\n",
    "    w = np.zeros(x.shape[1], dtype = float).reshape((-1, 1))\n",
    "    b = np.array((0))\n",
    "    for k in range(iter_n):\n",
    "        for i in range(x.shape[0]): \n",
    "            y_hat = sign(np.dot(temp[i], w) + b)\n",
    "            if(y_hat*y[i] <= 0):\n",
    "                w += lr * (temp[i].reshape(-1, 1) * y[i])\n",
    "                b += y[i]\n",
    "    return w, b"
   ]
  },
  {
   "cell_type": "code",
   "execution_count": 182,
   "id": "7ece9f24-f5e4-4f47-91e2-1db2e44ec095",
   "metadata": {},
   "outputs": [],
   "source": [
    "# Model 4 : min(w^2)\n",
    "# want\n",
    "def LargeMargin(features, label, t = 100) : \n",
    "    want = 0\n",
    "    w_square = np.inf\n",
    "    for i in range(t) :\n",
    "        w, b = BasicLCB(features, label)\n",
    "        want_w = w\n",
    "        want_b = b\n",
    "        w_square_t = sum(np.square(w))\n",
    "        if w_square_t <= w_square :\n",
    "            want = i\n",
    "            w_square = w_square_t\n",
    "            want_w = w\n",
    "            want_b = b\n",
    "    return want_w, want_b"
   ]
  },
  {
   "cell_type": "code",
   "execution_count": 183,
   "id": "b62f4105-4033-4323-b29a-0c850e92b996",
   "metadata": {},
   "outputs": [
    {
     "name": "stdout",
     "output_type": "stream",
     "text": [
      "[0.55507246]\n",
      "635.53564453125\n"
     ]
    }
   ],
   "source": [
    "# ckeck accuracy\n",
    "start = time.time()\n",
    "w, b =  LargeMargin(crx_features, crx_label)\n",
    "a = np.dot(crx_features.to_numpy(), w) + b\n",
    "a = np.where(a > 0, 1, -1)\n",
    "c = np.array(crx_label).reshape(-1, 1)\n",
    "print(sum(a==c)/crx_label.shape[0])\n",
    "print(time.time()-start)"
   ]
  },
  {
   "cell_type": "code",
   "execution_count": 180,
   "id": "ed94624c-c246-4339-b64f-735be155bf01",
   "metadata": {},
   "outputs": [
    {
     "data": {
      "text/plain": [
       "(690, 15)"
      ]
     },
     "execution_count": 180,
     "metadata": {},
     "output_type": "execute_result"
    }
   ],
   "source": [
    "a.shape"
   ]
  },
  {
   "cell_type": "code",
   "execution_count": null,
   "id": "750093b6-94cc-495c-81f5-cbe5a949c3da",
   "metadata": {},
   "outputs": [],
   "source": []
  },
  {
   "cell_type": "markdown",
   "id": "a36c6955-eb5f-4051-8612-9746e8d316bd",
   "metadata": {
    "tags": []
   },
   "source": [
    "## Basic Linear Classification With Bias and Slack Variable"
   ]
  },
  {
   "cell_type": "code",
   "execution_count": 189,
   "id": "6efb0238-9a6f-4d59-acd0-45e4916d8141",
   "metadata": {},
   "outputs": [],
   "source": [
    "# Model 5 : Slack Variable\n",
    "# want\n",
    "def WithSlackVariable(features, label, t = 100, c = 1) : \n",
    "    want = 0\n",
    "    w_square_slack = np.inf\n",
    "    for i in range(t) :\n",
    "        w, b = BasicLCB(features, label)\n",
    "        want_w = w\n",
    "        want_b = b\n",
    "        w_square_t = sum(np.square(w))\n",
    "        y_hat = np.dot(features.to_numpy(), w) + b\n",
    "        y = np.array(label).reshape(-1, 1)\n",
    "        t = y*y_hat\n",
    "        t = 1-t\n",
    "        d = np.zeros_like(t)\n",
    "        d = np.hstack([t, d])\n",
    "        s = sum(d.max(axis = 1))\n",
    "        if (w_square_t + (c*s)) <= w_square_slack :\n",
    "            want = i\n",
    "            w_square_slack = w_square_t + (c*s)\n",
    "            want_w = w\n",
    "            want_b = b\n",
    "    return want_w, want_b"
   ]
  },
  {
   "cell_type": "code",
   "execution_count": 190,
   "id": "412025d9-b87d-4c69-b93b-8e7d96fb750b",
   "metadata": {
    "tags": []
   },
   "outputs": [
    {
     "name": "stdout",
     "output_type": "stream",
     "text": [
      "[0.55507246]\n",
      "630.0303938388824\n"
     ]
    }
   ],
   "source": [
    "# ckeck accuracy\n",
    "start = time.time()\n",
    "w, b =  WithSlackVariable(crx_features, crx_label)\n",
    "a = np.dot(crx_features.to_numpy(), w) + b\n",
    "a = np.where(a > 0, 1, -1)\n",
    "c = np.array(crx_label).reshape(-1, 1)\n",
    "print(sum(a==c)/crx_label.shape[0])\n",
    "print(time.time()-start)"
   ]
  },
  {
   "cell_type": "code",
   "execution_count": null,
   "id": "fc3e99f0-df55-41da-974d-fe54e4183364",
   "metadata": {},
   "outputs": [],
   "source": []
  },
  {
   "cell_type": "code",
   "execution_count": 204,
   "id": "253dc0eb-a53c-48ae-9e3d-60b0ddb51177",
   "metadata": {},
   "outputs": [
    {
     "name": "stdout",
     "output_type": "stream",
     "text": [
      "[-0.00991646  0.00563166 -0.02658135 -0.31067424  0.40283779 -0.06838216\n",
      " -0.01867211  0.05265779  0.60500133  0.1370723   0.07086383 -0.02893266\n",
      "  0.03164677 -0.05538888  0.06576958]\n",
      "-0.11014492753623172\n"
     ]
    }
   ],
   "source": [
    "# Linear Classification By Packages\n",
    "lm = LinearRegression()\n",
    "lm.fit(crx_features, crx_label)\n",
    "\n",
    "# 印出係數\n",
    "print(lm.coef_)\n",
    "\n",
    "# 印出截距\n",
    "print(lm.intercept_ )"
   ]
  },
  {
   "cell_type": "code",
   "execution_count": 205,
   "id": "1c6b1914-55b0-437d-984c-1e6da42c56ee",
   "metadata": {},
   "outputs": [
    {
     "data": {
      "text/plain": [
       "0.8594202898550725"
      ]
     },
     "execution_count": 205,
     "metadata": {},
     "output_type": "execute_result"
    }
   ],
   "source": [
    "# ckeck accuracy\n",
    "a = (np.dot(crx_features.to_numpy(), lm.coef_)) + lm.intercept_\n",
    "a = np.where(a > 0, 1, -1)\n",
    "b = np.array(crx_label)\n",
    "sum(a==b)/crx_label.shape[0]"
   ]
  },
  {
   "cell_type": "code",
   "execution_count": null,
   "id": "6f96964b-8c1e-4941-a147-7a1abc217acd",
   "metadata": {},
   "outputs": [],
   "source": []
  },
  {
   "cell_type": "code",
   "execution_count": 206,
   "id": "9cd9971e-00e5-4706-9389-66bcef528664",
   "metadata": {},
   "outputs": [
    {
     "name": "stdout",
     "output_type": "stream",
     "text": [
      "0.8608695652173913\n"
     ]
    },
    {
     "name": "stderr",
     "output_type": "stream",
     "text": [
      "/home/rita/miniconda3/envs/jupyterlab/lib/python3.9/site-packages/sklearn/svm/_base.py:1225: ConvergenceWarning: Liblinear failed to converge, increase the number of iterations.\n",
      "  warnings.warn(\n"
     ]
    }
   ],
   "source": [
    "# SVM\n",
    "clf=svm.LinearSVC()\n",
    "clf.fit(crx_features,crx_label)\n",
    "clf.predict(crx_features)\n",
    "print(clf.score(crx_features,crx_label))"
   ]
  },
  {
   "cell_type": "code",
   "execution_count": 52,
   "id": "65c63aad-e9f8-4768-a9b0-7c9ab6f28c20",
   "metadata": {},
   "outputs": [],
   "source": [
    "X_train, X_test, y_train, y_test = train_test_split(data_features, data_label ,test_size=0.3,random_state = 0)"
   ]
  },
  {
   "cell_type": "markdown",
   "id": "617807a2-53aa-4ffb-892a-7f43cb17eb10",
   "metadata": {},
   "source": [
    "## For 'CRX' dataset"
   ]
  },
  {
   "cell_type": "code",
   "execution_count": 246,
   "id": "988d1a4a-373f-413b-ad49-3091ec63380e",
   "metadata": {},
   "outputs": [
    {
     "name": "stdout",
     "output_type": "stream",
     "text": [
      "BasicLinearClassification's Accuracy :  [0.4057971]\n",
      "BasicLinearClassificationWithBias's Accuracy :  [0.52657005]\n",
      "Least Square Error's Accuracy :  0.8502415458937198\n",
      "Minimun w^2 method's Accuracy :  [0.32850242]\n",
      "Slack Variable's Accuracy :  [0.39613527]\n",
      "Package Linear Classification's Accuracy 0.8502415458937198\n",
      "package : SVM 0.8502415458937198\n"
     ]
    },
    {
     "name": "stderr",
     "output_type": "stream",
     "text": [
      "/home/rita/miniconda3/envs/jupyterlab/lib/python3.9/site-packages/sklearn/svm/_base.py:1225: ConvergenceWarning: Liblinear failed to converge, increase the number of iterations.\n",
      "  warnings.warn(\n"
     ]
    }
   ],
   "source": [
    "features = crx_features\n",
    "label = crx_label\n",
    "X_train, X_test, y_train, y_test = train_test_split(features, label ,test_size=0.3,random_state = 0)\n",
    "# Linear lassification\n",
    "LC = BasicLinearClassification()\n",
    "LC.fit(X_train, y_train)\n",
    "print('BasicLinearClassification\\'s Accuracy : ', LC.predict(X_test, y_test))\n",
    "# Linear classification Wuth Bias\n",
    "LCB = BasicLinearClassificationWithBias()\n",
    "LCB.fit(X_train, y_train)\n",
    "print('BasicLinearClassificationWithBias\\'s Accuracy : ', LCB.predict(X_test, y_test))\n",
    "# Least Square Error\n",
    "w =  LSE(X_train, y_train)\n",
    "x = np.ones((X_test.shape[0], 1))\n",
    "x = np.hstack([x, X_test])\n",
    "a = np.where(np.dot(x, w) > 0, 1, -1)\n",
    "b = np.array(y_test)\n",
    "sum(a==b)/y_test.shape[0]\n",
    "print('Least Square Error\\'s Accuracy : ', sum(a==b)/y_test.shape[0])\n",
    "# min w^2\n",
    "w_lm, b_lm =  LargeMargin(X_train, y_train)\n",
    "a = np.where(np.dot(X_test.to_numpy(), w_lm) + b_lm > 0, 1, -1)\n",
    "c = np.array(y_test).reshape(-1, 1)\n",
    "print('Minimun w^2 method\\'s Accuracy : ', sum(a==c)/y_test.shape[0])\n",
    "# slack variable\n",
    "w_sv, b_sv =  WithSlackVariable(X_train, y_train)\n",
    "a = np.dot(X_test.to_numpy(), w_sv) + b_sv\n",
    "a = np.where(a > 0, 1, -1)\n",
    "c = np.array(y_test).reshape(-1, 1)\n",
    "print('Slack Variable\\'s Accuracy : ', sum(a==c)/y_test.shape[0])\n",
    "# package : linear Classification\n",
    "lm = LinearRegression()\n",
    "lm.fit(X_train, y_train)\n",
    "a = (np.dot(X_test.to_numpy(), lm.coef_)) + lm.intercept_\n",
    "a = np.where(a > 0, 1, -1)\n",
    "b = np.array(y_test)\n",
    "print('Package Linear Classification\\'s Accuracy', sum(a==b)/y_test.shape[0])\n",
    "# package : svm\n",
    "clf=svm.LinearSVC()\n",
    "clf.fit(X_train, y_train)\n",
    "clf.predict(X_test)\n",
    "print('package : SVM', clf.score(X_test, y_test))"
   ]
  },
  {
   "cell_type": "code",
   "execution_count": 247,
   "id": "8cc71e25-6761-4814-b334-f7ce80807771",
   "metadata": {},
   "outputs": [
    {
     "name": "stdout",
     "output_type": "stream",
     "text": [
      "0.9903412220302575\n",
      "[0.11520616]\n"
     ]
    }
   ],
   "source": [
    "w2, b2 = LCB.getwb()\n",
    "print(sum(w2 ** 2))\n",
    "print(sum(w_lm ** 2))"
   ]
  },
  {
   "cell_type": "markdown",
   "id": "3f097549-1106-4f78-af2a-1c2b99149698",
   "metadata": {},
   "source": [
    "## For 'data' dataset"
   ]
  },
  {
   "cell_type": "code",
   "execution_count": 242,
   "id": "48f967bf-8042-4bf8-899e-b13b1cb0ec93",
   "metadata": {},
   "outputs": [
    {
     "name": "stdout",
     "output_type": "stream",
     "text": [
      "BasicLinearClassification's Accuracy :  [0.78362573]\n",
      "BasicLinearClassificationWithBias's Accuracy :  [0.63157895]\n",
      "Least Square Error's Accuracy :  0.9707602339181286\n",
      "Minimun w^2 method's Accuracy :  [0.66666667]\n",
      "Slack Variable's Accuracy :  [0.5497076]\n",
      "Package Linear Classification's Accuracy 0.9707602339181286\n",
      "package : SVM 0.9415204678362573\n"
     ]
    }
   ],
   "source": [
    "features = data_features\n",
    "label = data_label\n",
    "X_train, X_test, y_train, y_test = train_test_split(features, label ,test_size=0.3,random_state = 0)\n",
    "# Linear lassification\n",
    "LC = BasicLinearClassification()\n",
    "LC.fit(X_train, y_train)\n",
    "print('BasicLinearClassification\\'s Accuracy : ', LC.predict(X_test, y_test))\n",
    "# Linear classification Wuth Bias\n",
    "LCB = BasicLinearClassificationWithBias()\n",
    "LCB.fit(X_train, y_train)\n",
    "print('BasicLinearClassificationWithBias\\'s Accuracy : ', LCB.predict(X_test, y_test))\n",
    "# Least Square Error\n",
    "w =  LSE(X_train, y_train)\n",
    "x = np.ones((X_test.shape[0], 1))\n",
    "x = np.hstack([x, X_test])\n",
    "a = np.where(np.dot(x, w) > 0, 1, -1)\n",
    "b = np.array(y_test)\n",
    "print('Least Square Error\\'s Accuracy : ', sum(a==b)/y_test.shape[0])\n",
    "# min w^2\n",
    "w_lm, b_lm =  LargeMargin(X_train, y_train)\n",
    "a = np.where(np.dot(X_test.to_numpy(), w_lm) + b_lm > 0, 1, -1)\n",
    "c = np.array(y_test).reshape(-1, 1)\n",
    "print('Minimun w^2 method\\'s Accuracy : ', sum(a==c)/y_test.shape[0])\n",
    "# slack variable\n",
    "w_sv, b_sv =  WithSlackVariable(X_train, y_train)\n",
    "a = np.dot(X_test.to_numpy(), w_sv) + b_sv\n",
    "a = np.where(a > 0, 1, -1)\n",
    "c = np.array(y_test).reshape(-1, 1)\n",
    "print('Slack Variable\\'s Accuracy : ', sum(a==c)/y_test.shape[0])\n",
    "# package : linear Classification\n",
    "lm = LinearRegression()\n",
    "lm.fit(X_train, y_train)\n",
    "a = (np.dot(X_test.to_numpy(), lm.coef_)) + lm.intercept_\n",
    "a = np.where(a > 0, 1, -1)\n",
    "b = np.array(y_test)\n",
    "print('Package Linear Classification\\'s Accuracy', sum(a==b)/y_test.shape[0])\n",
    "# package : svm\n",
    "clf=svm.LinearSVC()\n",
    "clf.fit(X_train, y_train)\n",
    "clf.predict(X_test)\n",
    "print('package : SVM', clf.score(X_test, y_test))"
   ]
  },
  {
   "cell_type": "markdown",
   "id": "acf2bd0f-20a7-42c0-9bb5-fa74f6dda4ba",
   "metadata": {},
   "source": [
    "### comparison"
   ]
  },
  {
   "cell_type": "code",
   "execution_count": 245,
   "id": "20114340-ac2a-48a2-a85c-d64c55bceab7",
   "metadata": {},
   "outputs": [
    {
     "name": "stdout",
     "output_type": "stream",
     "text": [
      "7.72663779260806\n",
      "[11.6290047]\n"
     ]
    }
   ],
   "source": [
    "w2, b2 = LCB.getwb()\n",
    "print(sum(w2 ** 2))\n",
    "print(sum(w_lm ** 2))"
   ]
  },
  {
   "cell_type": "code",
   "execution_count": null,
   "id": "78f15635-cdc5-4e57-b491-80f0a0c6adff",
   "metadata": {},
   "outputs": [],
   "source": []
  },
  {
   "cell_type": "markdown",
   "id": "3fb8868b-8b5a-4088-aa76-70093a82a893",
   "metadata": {},
   "source": [
    "## Compare Different C"
   ]
  },
  {
   "cell_type": "code",
   "execution_count": 232,
   "id": "2dc98bf5-5a50-412d-9b6c-976c658bd93d",
   "metadata": {},
   "outputs": [],
   "source": [
    "# Model 5 : Slack Variable\n",
    "# want\n",
    "def WithSlackVariable(features, label, t = 100, c = 1) : \n",
    "    want = 0\n",
    "    w_square_slack = np.inf\n",
    "    for i in range(t) :\n",
    "        w, b = BasicLCB(features, label)\n",
    "        want_w = w\n",
    "        want_b = b\n",
    "        w_square_t = sum(np.square(w))\n",
    "        y_hat = np.dot(features.to_numpy(), w) + b\n",
    "        y = np.array(label).reshape(-1, 1)\n",
    "        t = y*y_hat\n",
    "        t = 1-t\n",
    "        d = np.zeros_like(t)\n",
    "        d = np.hstack([t, d])\n",
    "        s = sum(d.max(axis = 1))\n",
    "        if (w_square_t + (c*s)) <= w_square_slack :\n",
    "            want = i\n",
    "            w_square_slack = w_square_t + (c*s)\n",
    "            want_w = w\n",
    "            want_b = b\n",
    "    return want_w, want_b"
   ]
  },
  {
   "cell_type": "code",
   "execution_count": 251,
   "id": "bfab99cc-0276-4202-8f07-efc309e0c219",
   "metadata": {},
   "outputs": [
    {
     "name": "stdout",
     "output_type": "stream",
     "text": [
      "[[ 0.1         0.4589372 ]\n",
      " [ 0.3         0.57971014]\n",
      " [ 0.5         0.54589372]\n",
      " [ 1.          0.57004831]\n",
      " [ 3.          0.56521739]\n",
      " [ 5.          0.55555556]\n",
      " [10.          0.66666667]]\n"
     ]
    }
   ],
   "source": [
    "features = crx_features\n",
    "label = crx_label\n",
    "X_train, X_test, y_train, y_test = train_test_split(features, label ,test_size=0.3,random_state = 0)\n",
    "a = (0.1, 0.3, 0.5, 1, 3, 5, 10)\n",
    "n = np.zeros((len(a), 2), dtype = float)\n",
    "count = 0\n",
    "for i in a : \n",
    "    w, b =  WithSlackVariable(X_train, y_train, c = i)\n",
    "    a = np.dot(X_test.to_numpy(), w) + b\n",
    "    a = np.where(a > 0, 1, -1)\n",
    "    c = np.array(y_test).reshape(-1, 1)\n",
    "    t = sum(a==c)/y_test.shape[0]\n",
    "    n[count, 0] = i\n",
    "    n[count, 1] = t\n",
    "    count += 1\n",
    "print(n)"
   ]
  },
  {
   "cell_type": "code",
   "execution_count": 252,
   "id": "52aea9f9-7462-4bf2-88ca-658017ae978b",
   "metadata": {},
   "outputs": [
    {
     "name": "stdout",
     "output_type": "stream",
     "text": [
      "[[ 0.1         0.62573099]\n",
      " [ 0.3         0.62573099]\n",
      " [ 0.5         0.6374269 ]\n",
      " [ 1.          0.59649123]\n",
      " [ 3.          0.61988304]\n",
      " [ 5.          0.66081871]\n",
      " [10.          0.64327485]]\n"
     ]
    }
   ],
   "source": [
    "features = data_features\n",
    "label = data_label\n",
    "X_train, X_test, y_train, y_test = train_test_split(features, label ,test_size=0.3,random_state = 0)\n",
    "a = (0.1, 0.3, 0.5, 1, 3, 5, 10)\n",
    "n = np.zeros((len(a), 2), dtype = float)\n",
    "count = 0\n",
    "for i in a : \n",
    "    w, b =  WithSlackVariable(X_train, y_train, c = i)\n",
    "    a = np.dot(X_test.to_numpy(), w) + b\n",
    "    a = np.where(a > 0, 1, -1)\n",
    "    c = np.array(y_test).reshape(-1, 1)\n",
    "    t = sum(a==c)/y_test.shape[0]\n",
    "    n[count, 0] = i\n",
    "    n[count, 1] = t\n",
    "    count += 1\n",
    "print(n)"
   ]
  },
  {
   "cell_type": "code",
   "execution_count": null,
   "id": "fc2d11a4-a448-4350-b430-94c1dd006a1c",
   "metadata": {},
   "outputs": [],
   "source": []
  },
  {
   "cell_type": "code",
   "execution_count": null,
   "id": "55256078-7da0-419a-a45c-ef39e8f7afef",
   "metadata": {},
   "outputs": [],
   "source": []
  }
 ],
 "metadata": {
  "kernelspec": {
   "display_name": "jupyterlab",
   "language": "python",
   "name": "jupyterlab"
  },
  "language_info": {
   "codemirror_mode": {
    "name": "ipython",
    "version": 3
   },
   "file_extension": ".py",
   "mimetype": "text/x-python",
   "name": "python",
   "nbconvert_exporter": "python",
   "pygments_lexer": "ipython3",
   "version": "3.9.13"
  }
 },
 "nbformat": 4,
 "nbformat_minor": 5
}
